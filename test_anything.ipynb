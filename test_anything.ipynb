{
 "cells": [
  {
   "cell_type": "code",
   "execution_count": 1,
   "metadata": {},
   "outputs": [],
   "source": [
    "import glob\n",
    "import os\n",
    "import py3Dmol\n",
    "import math\n",
    "import pandas as pd\n",
    "import numpy as np\n",
    "import matplotlib\n",
    "import copy\n",
    "import matplotlib.pyplot as plt\n",
    "from sklearn.linear_model import LinearRegression\n",
    "from sklearn.metrics import r2_score, mean_squared_error, mean_absolute_error\n",
    "\n",
    "import itertools\n",
    "import sys\n",
    "sys.path.append('../')\n",
    "from mypackage.AnalyzeGeom import cpx\n",
    "from mypackage.StructGen import structgen\n",
    "from mypackage.globalvars import MYPACKAGE_DIR\n",
    "from mypackage import visualize as vis\n",
    "from mypackage.AnalyzeGeom import geommath\n",
    "\n",
    "\n",
    "\n",
    "Hartree = 627.503\n"
   ]
  },
  {
   "cell_type": "code",
   "execution_count": 2,
   "metadata": {},
   "outputs": [],
   "source": [
    "%load_ext autoreload\n",
    "%autoreload 2"
   ]
  },
  {
   "cell_type": "code",
   "execution_count": 3,
   "metadata": {},
   "outputs": [],
   "source": [
    "%reload_ext autoreload"
   ]
  },
  {
   "cell_type": "code",
   "execution_count": 243,
   "metadata": {},
   "outputs": [],
   "source": [
    "files = glob.glob('../ThesisFiles/backup_fulloutput/TSOA/*/*.log')"
   ]
  },
  {
   "cell_type": "markdown",
   "metadata": {},
   "source": [
    "# XYZ files"
   ]
  },
  {
   "cell_type": "code",
   "execution_count": 3,
   "metadata": {},
   "outputs": [],
   "source": [
    "def ligand_breakdown(mol,dummy_bool=False):\n",
    "    # get networkx graph representations\n",
    "    g=mol3D_to_networkx(mol,get_symbols=False,get_bond_order=False,get_bond_distance=False)\n",
    "    \n",
    "    # get metal_indices\n",
    "    metal_indices=mol.findMetal(transition_metals_only=True)\n",
    "    \n",
    "    # init ca dict\n",
    "    met_ca_d = {}\n",
    "    for met in sorted(metal_indices):\n",
    "        met_sym = mol.atoms[met].sym\n",
    "        met_ca_d[met] = {\"symbol\":met_sym,\"catoms\":[]}        \n",
    "        \n",
    "    # get all connecting atoms\n",
    "    bonds = g.edges()\n",
    "    for bond in bonds:\n",
    "        at0 = bond[0]\n",
    "        at1 = bond[1]\n",
    "        if at0 in met_ca_d:\n",
    "            met_ca_d[at0][\"catoms\"].append(at1)\n",
    "        elif at1 in metal_indices:\n",
    "            met_ca_d[at1][\"catoms\"].append(at0)\n",
    "    \n",
    "    connecting_atoms = []\n",
    "    \n",
    "    # remove all metals from copied graph and get all disconnected graphs from the copy\n",
    "    g.remove_nodes_from(metal_indices)\n",
    "    disconnected_graphs = list(nx.connected_components(g))\n",
    "    \n",
    "    list_of_ligands=[]\n",
    "    # for each disconnected graph\n",
    "    for set_of_nodes in disconnected_graphs:\n",
    "        metal_indices=mol.findMetal(transition_metals_only=True)\n",
    "        bridging_data=bridging_ligand_helper(mol,set_of_nodes,metal_indices)\n",
    "        listed_nodes =list(set_of_nodes)\n",
    "        if dummy_bool:\n",
    "            submol=mol.create_mol_with_inds(listed_nodes+metal_indices)\n",
    "            # get metal_indices\n",
    "            metal_indices=submol.findMetal(transition_metals_only=True)\n",
    "            for metal_index in metal_indices:\n",
    "                submol.getAtom(metal_index).mutate(newType='X')\n",
    "        else:\n",
    "            # create a mol3D of just the atoms in the subgraph and get the new mol2\n",
    "            submol=mol.create_mol_with_inds(listed_nodes)   \n",
    "            \n",
    "        # connecting atoms cont\n",
    "        bridging_data['catoms'] = {}\n",
    "        for met in met_ca_d:\n",
    "            sub_connecting_atoms = []\n",
    "            connecting_atoms = met_ca_d[met][\"catoms\"]\n",
    "            for node in listed_nodes:\n",
    "                if node in connecting_atoms:\n",
    "                    sub_connecting_atoms.append(listed_nodes.index(node))\n",
    "            name = f\"{mol.atoms[met].sym}_0\"\n",
    "            while name in bridging_data['catoms']:\n",
    "                inc = int(name.split('_')[1])\n",
    "                name = f\"{met_sym}_{inc+1}\"\n",
    "            bridging_data['catoms'][name]=sub_connecting_atoms\n",
    "        \n",
    "        # graph hash\n",
    "        g_sub=mol3D_to_networkx(submol,get_symbols=True,get_bond_order=False,get_bond_distance=False)\n",
    "        gh = nx.weisfeiler_lehman_graph_hash(g_sub, node_attr = 'symbol')\n",
    "        bridging_data['graph_hash'] = gh\n",
    "        # add to list\n",
    "        list_of_ligands.append((submol,bridging_data))\n",
    "    return list_of_ligands\n",
    "def mol3D_to_networkx(mol,get_symbols:bool=True,get_bond_order:bool=True,get_bond_distance:bool=False):\n",
    "    g = nx.Graph()\n",
    "    \n",
    "    # get every index of atoms in mol3D object\n",
    "    for atom_ind in range(0,mol.natoms):\n",
    "        # set each atom as a node in the graph, and add symbol information if wanted\n",
    "        data={}\n",
    "        if get_symbols:\n",
    "            data['symbol']=mol.getAtom(atom_ind).symbol()\n",
    "        g.add_node(atom_ind,**data)\n",
    "        \n",
    "    # get every bond in mol3D object\n",
    "    bond_info=mol.bo_dict\n",
    "    for bond in bond_info:\n",
    "        # set each bond as an edge in the graph, and add symbol information if wanted\n",
    "        data={}\n",
    "        if get_bond_order:\n",
    "            data['bond_order']=bond_info[bond]\n",
    "        if get_bond_distance:\n",
    "            distance=mol.getAtom(bond[0]).distance(mol.getAtom(bond[1]))\n",
    "            data['bond_distance']=distance\n",
    "        g.add_edge(bond[0],bond[1],**data)\n",
    "    return g\n",
    "def bridging_ligand_helper(mol,set_of_nodes,metal_indices):\n",
    "    submol=mol.create_mol_with_inds(list(set_of_nodes)+metal_indices)\n",
    "    # get new metal indicies\n",
    "    submol_metal_indices=submol.findMetal(transition_metals_only=True)\n",
    "    # get disconnected graphs\n",
    "    submol.nx_graph = mol3D_to_networkx(submol, True, False, False)\n",
    "    disconnected_graphs = list(nx.connected_components(submol.nx_graph))\n",
    "    # check if at least two metals present in each disconnected graph\n",
    "    ret={}\n",
    "    for d_graph in disconnected_graphs:\n",
    "        # if length is 1 then it is more than isolated metal\n",
    "        if len(d_graph) > 1:\n",
    "            # count each metal, see if they are in metal indices\n",
    "            metal_count=0\n",
    "            for node in d_graph:\n",
    "                if node in submol_metal_indices:\n",
    "                    metal_count+=1\n",
    "            ret['Bridging_Ligand']=metal_count>1\n",
    "            ret['Connected_Metals']=metal_count\n",
    "    return ret"
   ]
  },
  {
   "cell_type": "code",
   "execution_count": 40,
   "metadata": {},
   "outputs": [],
   "source": [
    "xyzfile = '../ThesisFiles/file_xyz/I1/I1_Ni_SIPr_monolig_optfreq.xyz'"
   ]
  },
  {
   "cell_type": "code",
   "execution_count": 42,
   "metadata": {},
   "outputs": [],
   "source": [
    "def normalize(vector):\n",
    "    \"\"\" Normalize a vector to have a unit length. \"\"\"\n",
    "    return vector / np.linalg.norm(vector)\n",
    "\n",
    "def angle_between_vectors(v1, v2):\n",
    "    \"\"\"Calculate the angle in radians between two vectors.\"\"\"\n",
    "    v1_u = normalize(v1)\n",
    "    v2_u = normalize(v2)\n",
    "    dot_product = np.clip(np.dot(v1_u, v2_u), -1.0, 1.0)  # Ensure within [-1, 1]\n",
    "    return np.arccos(dot_product)\n",
    "\n",
    "def rotation_matrix(axis, angle):\n",
    "    \"\"\"\n",
    "    Create a rotation matrix for rotating around a given axis by a specified angle.\n",
    "    \n",
    "    Parameters:\n",
    "    - axis: A 3-element array specifying the axis of rotation.\n",
    "    - angle: The angle in radians by which to rotate.\n",
    "    \n",
    "    Returns:\n",
    "    - A 3x3 rotation matrix.\n",
    "    \"\"\"\n",
    "    axis = normalize(axis)\n",
    "    a = np.cos(angle / 2.0)\n",
    "    b, c, d = -axis * np.sin(angle / 2.0)\n",
    "    return np.array([\n",
    "        [a*a + b*b - c*c - d*d, 2*(b*c + a*d), 2*(b*d - a*c)],\n",
    "        [2*(b*c - a*d), a*a + c*c - b*b - d*d, 2*(c*d + a*b)],\n",
    "        [2*(b*d + a*c), 2*(c*d - a*b), a*a + d*d - b*b - c*c]\n",
    "    ])\n",
    "\n",
    "def rotate_coordinates(coords, center, rotation_matrix):\n",
    "    \"\"\"\n",
    "    Rotate a set of coordinates around a specified center using a rotation matrix.\n",
    "    \n",
    "    Parameters:\n",
    "    - coords: An Nx3 array of coordinates to rotate.\n",
    "    - center: The center of rotation as a 3-element array.\n",
    "    - rotation_matrix: The 3x3 rotation matrix.\n",
    "    \n",
    "    Returns:\n",
    "    - The rotated Nx3 array of coordinates.\n",
    "    \"\"\"\n",
    "    # Translate coordinates to origin\n",
    "    translated_coords = coords - center\n",
    "    # Apply the rotation\n",
    "    rotated_coords = np.dot(translated_coords, rotation_matrix.T)\n",
    "    # Translate back to original position\n",
    "    final_coords = rotated_coords + center\n",
    "    return final_coords"
   ]
  },
  {
   "cell_type": "markdown",
   "metadata": {},
   "source": [
    "# polish adding ligand code"
   ]
  },
  {
   "cell_type": "markdown",
   "metadata": {},
   "source": [
    "1. Get Mol template"
   ]
  },
  {
   "cell_type": "code",
   "execution_count": 172,
   "metadata": {},
   "outputs": [
    {
     "data": {
      "text/plain": [
       "array([[ 0. ,  0. ,  0. ],\n",
       "       [ 1.8,  0. ,  0. ],\n",
       "       [ 0. ,  1.8,  0. ],\n",
       "       [-1.8,  0. ,  0. ],\n",
       "       [ 0. , -1.8,  0. ]])"
      ]
     },
     "execution_count": 172,
     "metadata": {},
     "output_type": "execute_result"
    }
   ],
   "source": [
    "template_Mol = structgen.create_template_Mol()\n",
    "num_atoms = template_Mol.natoms\n",
    "atoms_template = template_Mol.atoms\n",
    "template_Mol.coords"
   ]
  },
  {
   "cell_type": "markdown",
   "metadata": {},
   "source": [
    "2. Define metal center"
   ]
  },
  {
   "cell_type": "code",
   "execution_count": 173,
   "metadata": {},
   "outputs": [
    {
     "data": {
      "text/plain": [
       "[Atom(Pd0), Atom(X1), Atom(X2), Atom(X3), Atom(X4)]"
      ]
     },
     "execution_count": 173,
     "metadata": {},
     "output_type": "execute_result"
    }
   ],
   "source": [
    "metal_center = ['Pd'] # input: list of metal (either mononuclear, dinuclear)\n",
    "\n",
    "atoms_template_M = [atom for atom in atoms_template if atom.sym == 'M']\n",
    "if len(metal_center) < len(atoms_template_M):\n",
    "    raise ValueError(\"Not enough elements in metal_center to match the atoms with symbol 'M'.\")\n",
    "for idx, atom in enumerate(atoms_template_M):\n",
    "    atom.sym = metal_center[idx % len(metal_center)]\n",
    "\n",
    "atoms_template"
   ]
  },
  {
   "cell_type": "markdown",
   "metadata": {},
   "source": [
    "2. get ligand Mol"
   ]
  },
  {
   "cell_type": "code",
   "execution_count": 174,
   "metadata": {},
   "outputs": [
    {
     "data": {
      "text/plain": [
       "{Atom(P0)}"
      ]
     },
     "execution_count": 174,
     "metadata": {},
     "output_type": "execute_result"
    }
   ],
   "source": [
    "phosphene_path = '../23_genstruct/04_myligands/LPH001.mol2' # input: ligand structure\n",
    "lig_Mol = cpx.MolLigand()\n",
    "lig_Mol.readfile('mol2', phosphene_path)\n",
    "catoms = [0] # input: catoms\n",
    "lig_Mol.set_catoms(catoms)\n",
    "lig_Mol.getAtom_catoms()"
   ]
  },
  {
   "cell_type": "markdown",
   "metadata": {},
   "source": [
    "3. get M-L bond length"
   ]
  },
  {
   "cell_type": "code",
   "execution_count": 175,
   "metadata": {},
   "outputs": [],
   "source": [
    "metal_sym = atoms_template[0].sym\n",
    "ligand_sym = list(lig_Mol.getAtom_catoms())[0].sym # monodentate ligand\n",
    "ML_bondlength = 2.26 # for Pd-P"
   ]
  },
  {
   "cell_type": "markdown",
   "metadata": {},
   "source": [
    "4. scale the M-L distance"
   ]
  },
  {
   "cell_type": "code",
   "execution_count": 187,
   "metadata": {},
   "outputs": [
    {
     "data": {
      "text/plain": [
       "array([0.  , 2.26, 0.  ])"
      ]
     },
     "execution_count": 187,
     "metadata": {},
     "output_type": "execute_result"
    }
   ],
   "source": [
    "pointM = atoms_template[0].coord\n",
    "pointL = atoms_template[2].coord # iterate for other points\n",
    "pointL = geommath.scaled_distance(pointM, pointL, ML_bondlength)\n",
    "pointL"
   ]
  },
  {
   "cell_type": "markdown",
   "metadata": {},
   "source": [
    "4. Translate ligand to the connecting point"
   ]
  },
  {
   "cell_type": "code",
   "execution_count": 188,
   "metadata": {},
   "outputs": [],
   "source": [
    "catom = list(lig_Mol.getAtom_catoms())[0] # monodentate ligand\n",
    "translated_vector = pointL - catom.coord\n",
    "translated_coord = lig_Mol.coords + translated_vector"
   ]
  },
  {
   "cell_type": "markdown",
   "metadata": {},
   "source": [
    "5. find lone pair vector"
   ]
  },
  {
   "cell_type": "code",
   "execution_count": 189,
   "metadata": {},
   "outputs": [
    {
     "data": {
      "text/plain": [
       "array([-0.730371  , -0.09521714,  0.67638147])"
      ]
     },
     "execution_count": 189,
     "metadata": {},
     "output_type": "execute_result"
    }
   ],
   "source": [
    "adjcatoms = lig_Mol.getAtom_adjcatom()[catoms[0]] # monodentate ligand\n",
    "adjcatom_coords = lig_Mol.getcoord_fromatomlist(adjcatoms)\n",
    "adjcatom_vecs = adjcatom_coords - catom.coord\n",
    "lonepair_vec = geommath.normalize(-np.sum(adjcatom_vecs, axis=0))\n",
    "lonepair_vec"
   ]
  },
  {
   "cell_type": "markdown",
   "metadata": {},
   "source": [
    "6. find bonding vector"
   ]
  },
  {
   "cell_type": "code",
   "execution_count": 190,
   "metadata": {},
   "outputs": [
    {
     "data": {
      "text/plain": [
       "array([ 0., -1.,  0.])"
      ]
     },
     "execution_count": 190,
     "metadata": {},
     "output_type": "execute_result"
    }
   ],
   "source": [
    "templatebond_vec = geommath.normalize(pointM - pointL)\n",
    "templatebond_vec"
   ]
  },
  {
   "cell_type": "markdown",
   "metadata": {},
   "source": [
    "7. rotate ligands to bond the template"
   ]
  },
  {
   "cell_type": "code",
   "execution_count": 191,
   "metadata": {},
   "outputs": [],
   "source": [
    "# Calculate rotation axis and angle\n",
    "rotation_axis = np.cross(lonepair_vec, templatebond_vec)\n",
    "rotation_angle = angle_between_vectors(lonepair_vec, templatebond_vec)\n",
    "# Create rotation matrix\n",
    "R = rotation_matrix(rotation_axis, rotation_angle)\n",
    "# Apply rotation to the coordinates centered at catom_coord\n",
    "rotated_coords = rotate_coordinates(translated_coord, pointL, R)"
   ]
  },
  {
   "cell_type": "markdown",
   "metadata": {},
   "source": [
    "8. Add ligands to the template complex"
   ]
  },
  {
   "cell_type": "code",
   "execution_count": 192,
   "metadata": {},
   "outputs": [],
   "source": [
    "list_sym = lig_Mol.getlistofsym()"
   ]
  },
  {
   "cell_type": "code",
   "execution_count": 193,
   "metadata": {},
   "outputs": [
    {
     "data": {
      "text/plain": [
       "Mol(natoms=69)"
      ]
     },
     "execution_count": 193,
     "metadata": {},
     "output_type": "execute_result"
    }
   ],
   "source": [
    "for sym, coord in zip(list_sym, rotated_coords):\n",
    "    num_atoms = template_Mol.natoms\n",
    "    template_Mol.addAtom(cpx.Atom(num_atoms,sym,coord))\n",
    "template_Mol"
   ]
  },
  {
   "cell_type": "code",
   "execution_count": 194,
   "metadata": {},
   "outputs": [
    {
     "ename": "ValueError",
     "evalue": "No atoms with symbols ['X'] found.",
     "output_type": "error",
     "traceback": [
      "\u001b[0;31m---------------------------------------------------------------------------\u001b[0m",
      "\u001b[0;31mValueError\u001b[0m                                Traceback (most recent call last)",
      "Cell \u001b[0;32mIn[194], line 1\u001b[0m\n\u001b[0;32m----> 1\u001b[0m \u001b[43mtemplate_Mol\u001b[49m\u001b[38;5;241;43m.\u001b[39;49m\u001b[43mdeleteAtoms_bysym\u001b[49m\u001b[43m(\u001b[49m\u001b[43m[\u001b[49m\u001b[38;5;124;43m'\u001b[39;49m\u001b[38;5;124;43mX\u001b[39;49m\u001b[38;5;124;43m'\u001b[39;49m\u001b[43m]\u001b[49m\u001b[43m)\u001b[49m\n",
      "File \u001b[0;32m~/Documents/Thesis/ResultsAnalysis/JupyterFiles/../mypackage/AnalyzeGeom/cpx.py:550\u001b[0m, in \u001b[0;36mMol.deleteAtoms_bysym\u001b[0;34m(self, symbols)\u001b[0m\n\u001b[1;32m    548\u001b[0m atoms_to_keep \u001b[38;5;241m=\u001b[39m [atom \u001b[38;5;28;01mfor\u001b[39;00m atom \u001b[38;5;129;01min\u001b[39;00m \u001b[38;5;28mself\u001b[39m\u001b[38;5;241m.\u001b[39matoms \u001b[38;5;28;01mif\u001b[39;00m atom\u001b[38;5;241m.\u001b[39msym \u001b[38;5;129;01mnot\u001b[39;00m \u001b[38;5;129;01min\u001b[39;00m symbols_set]\n\u001b[1;32m    549\u001b[0m \u001b[38;5;28;01mif\u001b[39;00m \u001b[38;5;28mlen\u001b[39m(atoms_to_keep) \u001b[38;5;241m==\u001b[39m \u001b[38;5;28mlen\u001b[39m(\u001b[38;5;28mself\u001b[39m\u001b[38;5;241m.\u001b[39matoms):\n\u001b[0;32m--> 550\u001b[0m     \u001b[38;5;28;01mraise\u001b[39;00m \u001b[38;5;167;01mValueError\u001b[39;00m(\u001b[38;5;124mf\u001b[39m\u001b[38;5;124m\"\u001b[39m\u001b[38;5;124mNo atoms with symbols \u001b[39m\u001b[38;5;132;01m{\u001b[39;00msymbols\u001b[38;5;132;01m}\u001b[39;00m\u001b[38;5;124m found.\u001b[39m\u001b[38;5;124m\"\u001b[39m)\n\u001b[1;32m    551\u001b[0m \u001b[38;5;28mself\u001b[39m\u001b[38;5;241m.\u001b[39matoms \u001b[38;5;241m=\u001b[39m atoms_to_keep\n\u001b[1;32m    552\u001b[0m \u001b[38;5;28mself\u001b[39m\u001b[38;5;241m.\u001b[39m_coords \u001b[38;5;241m=\u001b[39m np\u001b[38;5;241m.\u001b[39marray([atom\u001b[38;5;241m.\u001b[39mcoord \u001b[38;5;28;01mfor\u001b[39;00m atom \u001b[38;5;129;01min\u001b[39;00m \u001b[38;5;28mself\u001b[39m\u001b[38;5;241m.\u001b[39matoms]) \u001b[38;5;28;01mif\u001b[39;00m \u001b[38;5;28mself\u001b[39m\u001b[38;5;241m.\u001b[39matoms \u001b[38;5;28;01melse\u001b[39;00m \u001b[38;5;28;01mNone\u001b[39;00m\n",
      "\u001b[0;31mValueError\u001b[0m: No atoms with symbols ['X'] found."
     ]
    }
   ],
   "source": [
    "template_Mol.deleteAtoms_bysym(['X'])"
   ]
  },
  {
   "cell_type": "code",
   "execution_count": 195,
   "metadata": {},
   "outputs": [
    {
     "data": {
      "application/3dmoljs_load.v0": "<div id=\"3dmolviewer_1730323739000869\"  style=\"position: relative; width: 400px; height: 300px;\">\n        <p id=\"3dmolwarning_1730323739000869\" style=\"background-color:#ffcccc;color:black\">3Dmol.js failed to load for some reason.  Please check your browser console for error messages.<br></p>\n        </div>\n<script>\n\nvar loadScriptAsync = function(uri){\n  return new Promise((resolve, reject) => {\n    //this is to ignore the existence of requirejs amd\n    var savedexports, savedmodule;\n    if (typeof exports !== 'undefined') savedexports = exports;\n    else exports = {}\n    if (typeof module !== 'undefined') savedmodule = module;\n    else module = {}\n\n    var tag = document.createElement('script');\n    tag.src = uri;\n    tag.async = true;\n    tag.onload = () => {\n        exports = savedexports;\n        module = savedmodule;\n        resolve();\n    };\n  var firstScriptTag = document.getElementsByTagName('script')[0];\n  firstScriptTag.parentNode.insertBefore(tag, firstScriptTag);\n});\n};\n\nif(typeof $3Dmolpromise === 'undefined') {\n$3Dmolpromise = null;\n  $3Dmolpromise = loadScriptAsync('https://cdnjs.cloudflare.com/ajax/libs/3Dmol/2.4.0/3Dmol-min.js');\n}\n\nvar viewer_1730323739000869 = null;\nvar warn = document.getElementById(\"3dmolwarning_1730323739000869\");\nif(warn) {\n    warn.parentNode.removeChild(warn);\n}\n$3Dmolpromise.then(function() {\nviewer_1730323739000869 = $3Dmol.createViewer(document.getElementById(\"3dmolviewer_1730323739000869\"),{backgroundColor:\"white\"});\nviewer_1730323739000869.zoomTo();\n\tviewer_1730323739000869.addModel(\"69\\n\\nPd\\t0.000000\\t0.000000\\t0.000000\\nP\\t2.260000\\t0.000000\\t0.000000\\nC\\t2.987937\\t1.133605\\t1.239204\\nC\\t2.723412\\t2.487728\\t1.093040\\nH\\t2.224381\\t2.785821\\t0.367208\\nC\\t3.203348\\t3.410060\\t2.033471\\nH\\t3.033084\\t4.317990\\t1.924371\\nC\\t3.919239\\t2.972011\\t3.110562\\nH\\t4.238851\\t3.582334\\t3.735029\\nC\\t4.168554\\t1.638797\\t3.274172\\nH\\t4.646224\\t1.344088\\t4.015266\\nC\\t3.714896\\t0.735232\\t2.345263\\nH\\t3.901460\\t-0.168007\\t2.464628\\nC\\t3.151030\\t0.473438\\t-1.542181\\nC\\t2.679598\\t-0.030095\\t-2.740950\\nH\\t1.924999\\t-0.573977\\t-2.749451\\nC\\t3.314945\\t0.266145\\t-3.911934\\nH\\t3.006222\\t-0.110556\\t-4.703922\\nC\\t4.383061\\t1.090726\\t-3.951271\\nH\\t4.778359\\t1.313970\\t-4.763028\\nC\\t4.870609\\t1.589849\\t-2.788711\\nH\\t5.623593\\t2.134228\\t-2.802791\\nC\\t4.264999\\t1.299041\\t-1.583725\\nH\\t4.604275\\t1.657572\\t-0.795352\\nC\\t3.054464\\t-1.607043\\t0.302978\\nC\\t2.267051\\t-2.707149\\t0.574798\\nH\\t1.346529\\t-2.594987\\t0.643994\\nC\\t2.799673\\t-3.968121\\t0.748107\\nH\\t2.242364\\t-4.690800\\t0.932368\\nC\\t4.159596\\t-4.150733\\t0.647814\\nH\\t4.529210\\t-4.996100\\t0.764539\\nC\\t4.955747\\t-3.087980\\t0.376675\\nH\\t5.875150\\t-3.211775\\t0.306902\\nC\\t4.427922\\t-1.826266\\t0.200805\\nH\\t4.994373\\t-1.112915\\t0.011421\\nP\\t0.000000\\t2.260000\\t0.000000\\nC\\t-0.052532\\t2.987937\\t1.678668\\nC\\t-1.174999\\t2.723412\\t2.450082\\nH\\t-1.874055\\t2.224381\\t2.093695\\nC\\t-1.261928\\t3.203348\\t3.764446\\nH\\t-2.021766\\t3.033084\\t4.273254\\nC\\t-0.227836\\t3.919239\\t4.296107\\nH\\t-0.283947\\t4.238851\\t5.167488\\nC\\t0.890137\\t4.168554\\t3.551551\\nH\\t1.596570\\t4.646224\\t3.921721\\nC\\t0.970337\\t3.714896\\t2.258157\\nH\\t1.733305\\t3.901460\\t1.760191\\nC\\t-1.363974\\t3.151030\\t-0.861419\\nC\\t-1.763066\\t2.679598\\t-2.098883\\nH\\t-1.356018\\t1.924999\\t-2.459704\\nC\\t-2.750760\\t3.314945\\t-2.794169\\nH\\t-2.981025\\t3.006222\\t-3.640412\\nC\\t-3.401915\\t4.383061\\t-2.286745\\nH\\t-4.100176\\t4.778359\\t-2.757084\\nC\\t-3.023069\\t4.870609\\t-1.079622\\nH\\t-3.445207\\t5.623593\\t-0.735607\\nC\\t-2.017341\\t4.264999\\t-0.355004\\nH\\t-1.775648\\t4.604275\\t0.476658\\nC\\t1.416506\\t3.054464\\t-0.817249\\nC\\t2.428149\\t2.267051\\t-1.327833\\nH\\t2.388149\\t1.346529\\t-1.202261\\nC\\t3.497639\\t2.799673\\t-2.017962\\nH\\t4.165918\\t2.242364\\t-2.349052\\nC\\t3.570821\\t4.159596\\t-2.213026\\nH\\t4.288167\\t4.529210\\t-2.675287\\nC\\t2.587957\\t4.955747\\t-1.726263\\nH\\t2.636406\\t5.875150\\t-1.859852\\nC\\t1.516235\\t4.427922\\t-1.037593\\nH\\t0.851695\\t4.994373\\t-0.716469\",\"xyz\");\n\tviewer_1730323739000869.setStyle({\"stick\": {\"colorscheme\": \"Jmol\"}});\n\tviewer_1730323739000869.addPropertyLabels(\"index\",{\"not\": {\"elem\": \"H\"}},{\"fontSize\": 10, \"color\": \"black\"});\n\tviewer_1730323739000869.zoomTo();\nviewer_1730323739000869.render();\n});\n</script>",
      "text/html": [
       "<div id=\"3dmolviewer_1730323739000869\"  style=\"position: relative; width: 400px; height: 300px;\">\n",
       "        <p id=\"3dmolwarning_1730323739000869\" style=\"background-color:#ffcccc;color:black\">3Dmol.js failed to load for some reason.  Please check your browser console for error messages.<br></p>\n",
       "        </div>\n",
       "<script>\n",
       "\n",
       "var loadScriptAsync = function(uri){\n",
       "  return new Promise((resolve, reject) => {\n",
       "    //this is to ignore the existence of requirejs amd\n",
       "    var savedexports, savedmodule;\n",
       "    if (typeof exports !== 'undefined') savedexports = exports;\n",
       "    else exports = {}\n",
       "    if (typeof module !== 'undefined') savedmodule = module;\n",
       "    else module = {}\n",
       "\n",
       "    var tag = document.createElement('script');\n",
       "    tag.src = uri;\n",
       "    tag.async = true;\n",
       "    tag.onload = () => {\n",
       "        exports = savedexports;\n",
       "        module = savedmodule;\n",
       "        resolve();\n",
       "    };\n",
       "  var firstScriptTag = document.getElementsByTagName('script')[0];\n",
       "  firstScriptTag.parentNode.insertBefore(tag, firstScriptTag);\n",
       "});\n",
       "};\n",
       "\n",
       "if(typeof $3Dmolpromise === 'undefined') {\n",
       "$3Dmolpromise = null;\n",
       "  $3Dmolpromise = loadScriptAsync('https://cdnjs.cloudflare.com/ajax/libs/3Dmol/2.4.0/3Dmol-min.js');\n",
       "}\n",
       "\n",
       "var viewer_1730323739000869 = null;\n",
       "var warn = document.getElementById(\"3dmolwarning_1730323739000869\");\n",
       "if(warn) {\n",
       "    warn.parentNode.removeChild(warn);\n",
       "}\n",
       "$3Dmolpromise.then(function() {\n",
       "viewer_1730323739000869 = $3Dmol.createViewer(document.getElementById(\"3dmolviewer_1730323739000869\"),{backgroundColor:\"white\"});\n",
       "viewer_1730323739000869.zoomTo();\n",
       "\tviewer_1730323739000869.addModel(\"69\\n\\nPd\\t0.000000\\t0.000000\\t0.000000\\nP\\t2.260000\\t0.000000\\t0.000000\\nC\\t2.987937\\t1.133605\\t1.239204\\nC\\t2.723412\\t2.487728\\t1.093040\\nH\\t2.224381\\t2.785821\\t0.367208\\nC\\t3.203348\\t3.410060\\t2.033471\\nH\\t3.033084\\t4.317990\\t1.924371\\nC\\t3.919239\\t2.972011\\t3.110562\\nH\\t4.238851\\t3.582334\\t3.735029\\nC\\t4.168554\\t1.638797\\t3.274172\\nH\\t4.646224\\t1.344088\\t4.015266\\nC\\t3.714896\\t0.735232\\t2.345263\\nH\\t3.901460\\t-0.168007\\t2.464628\\nC\\t3.151030\\t0.473438\\t-1.542181\\nC\\t2.679598\\t-0.030095\\t-2.740950\\nH\\t1.924999\\t-0.573977\\t-2.749451\\nC\\t3.314945\\t0.266145\\t-3.911934\\nH\\t3.006222\\t-0.110556\\t-4.703922\\nC\\t4.383061\\t1.090726\\t-3.951271\\nH\\t4.778359\\t1.313970\\t-4.763028\\nC\\t4.870609\\t1.589849\\t-2.788711\\nH\\t5.623593\\t2.134228\\t-2.802791\\nC\\t4.264999\\t1.299041\\t-1.583725\\nH\\t4.604275\\t1.657572\\t-0.795352\\nC\\t3.054464\\t-1.607043\\t0.302978\\nC\\t2.267051\\t-2.707149\\t0.574798\\nH\\t1.346529\\t-2.594987\\t0.643994\\nC\\t2.799673\\t-3.968121\\t0.748107\\nH\\t2.242364\\t-4.690800\\t0.932368\\nC\\t4.159596\\t-4.150733\\t0.647814\\nH\\t4.529210\\t-4.996100\\t0.764539\\nC\\t4.955747\\t-3.087980\\t0.376675\\nH\\t5.875150\\t-3.211775\\t0.306902\\nC\\t4.427922\\t-1.826266\\t0.200805\\nH\\t4.994373\\t-1.112915\\t0.011421\\nP\\t0.000000\\t2.260000\\t0.000000\\nC\\t-0.052532\\t2.987937\\t1.678668\\nC\\t-1.174999\\t2.723412\\t2.450082\\nH\\t-1.874055\\t2.224381\\t2.093695\\nC\\t-1.261928\\t3.203348\\t3.764446\\nH\\t-2.021766\\t3.033084\\t4.273254\\nC\\t-0.227836\\t3.919239\\t4.296107\\nH\\t-0.283947\\t4.238851\\t5.167488\\nC\\t0.890137\\t4.168554\\t3.551551\\nH\\t1.596570\\t4.646224\\t3.921721\\nC\\t0.970337\\t3.714896\\t2.258157\\nH\\t1.733305\\t3.901460\\t1.760191\\nC\\t-1.363974\\t3.151030\\t-0.861419\\nC\\t-1.763066\\t2.679598\\t-2.098883\\nH\\t-1.356018\\t1.924999\\t-2.459704\\nC\\t-2.750760\\t3.314945\\t-2.794169\\nH\\t-2.981025\\t3.006222\\t-3.640412\\nC\\t-3.401915\\t4.383061\\t-2.286745\\nH\\t-4.100176\\t4.778359\\t-2.757084\\nC\\t-3.023069\\t4.870609\\t-1.079622\\nH\\t-3.445207\\t5.623593\\t-0.735607\\nC\\t-2.017341\\t4.264999\\t-0.355004\\nH\\t-1.775648\\t4.604275\\t0.476658\\nC\\t1.416506\\t3.054464\\t-0.817249\\nC\\t2.428149\\t2.267051\\t-1.327833\\nH\\t2.388149\\t1.346529\\t-1.202261\\nC\\t3.497639\\t2.799673\\t-2.017962\\nH\\t4.165918\\t2.242364\\t-2.349052\\nC\\t3.570821\\t4.159596\\t-2.213026\\nH\\t4.288167\\t4.529210\\t-2.675287\\nC\\t2.587957\\t4.955747\\t-1.726263\\nH\\t2.636406\\t5.875150\\t-1.859852\\nC\\t1.516235\\t4.427922\\t-1.037593\\nH\\t0.851695\\t4.994373\\t-0.716469\",\"xyz\");\n",
       "\tviewer_1730323739000869.setStyle({\"stick\": {\"colorscheme\": \"Jmol\"}});\n",
       "\tviewer_1730323739000869.addPropertyLabels(\"index\",{\"not\": {\"elem\": \"H\"}},{\"fontSize\": 10, \"color\": \"black\"});\n",
       "\tviewer_1730323739000869.zoomTo();\n",
       "viewer_1730323739000869.render();\n",
       "});\n",
       "</script>"
      ]
     },
     "metadata": {},
     "output_type": "display_data"
    }
   ],
   "source": [
    "vis.showxyz_fromxyzstr(template_Mol.writexyz())"
   ]
  },
  {
   "cell_type": "code",
   "execution_count": 222,
   "metadata": {},
   "outputs": [
    {
     "data": {
      "application/3dmoljs_load.v0": "<div id=\"3dmolviewer_1730326648175751\"  style=\"position: relative; width: 400px; height: 300px;\">\n        <p id=\"3dmolwarning_1730326648175751\" style=\"background-color:#ffcccc;color:black\">3Dmol.js failed to load for some reason.  Please check your browser console for error messages.<br></p>\n        </div>\n<script>\n\nvar loadScriptAsync = function(uri){\n  return new Promise((resolve, reject) => {\n    //this is to ignore the existence of requirejs amd\n    var savedexports, savedmodule;\n    if (typeof exports !== 'undefined') savedexports = exports;\n    else exports = {}\n    if (typeof module !== 'undefined') savedmodule = module;\n    else module = {}\n\n    var tag = document.createElement('script');\n    tag.src = uri;\n    tag.async = true;\n    tag.onload = () => {\n        exports = savedexports;\n        module = savedmodule;\n        resolve();\n    };\n  var firstScriptTag = document.getElementsByTagName('script')[0];\n  firstScriptTag.parentNode.insertBefore(tag, firstScriptTag);\n});\n};\n\nif(typeof $3Dmolpromise === 'undefined') {\n$3Dmolpromise = null;\n  $3Dmolpromise = loadScriptAsync('https://cdnjs.cloudflare.com/ajax/libs/3Dmol/2.4.0/3Dmol-min.js');\n}\n\nvar viewer_1730326648175751 = null;\nvar warn = document.getElementById(\"3dmolwarning_1730326648175751\");\nif(warn) {\n    warn.parentNode.removeChild(warn);\n}\n$3Dmolpromise.then(function() {\nviewer_1730326648175751 = $3Dmol.createViewer(document.getElementById(\"3dmolviewer_1730326648175751\"),{backgroundColor:\"white\"});\nviewer_1730326648175751.zoomTo();\n\tviewer_1730326648175751.addModel(\"39\\n\\nP\\t-1.6666044222\\t0.1020818669\\t0.3142864802\\nNi\\t0.2100082661\\t-1.0605640779\\t0.2156156741\\nP\\t2.0075721148\\t0.1500747162\\t-0.0761069492\\nBr\\t0.0094964231\\t-2.877672458\\t-1.4852246437\\nC\\t0.8904546368\\t-2.7801244368\\t0.4496935996\\nC\\t2.1968166495\\t-3.2992685974\\t0.6114610888\\nC\\t-0.0660172433\\t-2.9182485237\\t1.4894425511\\nC\\t2.5914578946\\t-3.7326342057\\t1.8615812865\\nH\\t2.8834110281\\t-3.3174607134\\t-0.2298730391\\nC\\t0.3826490154\\t-3.3351481429\\t2.7593398603\\nH\\t-1.1302432615\\t-2.8734351465\\t1.2830295767\\nC\\t1.6979869378\\t-3.720135774\\t2.9541472529\\nH\\t3.6110793545\\t-4.0852603866\\t2.0042273087\\nH\\t-0.335666055\\t-3.4209523559\\t3.572602955\\nH\\t2.028681446\\t-4.0714152522\\t3.9278839314\\nC\\t-3.2077229388\\t-0.8726542582\\t0.595679065\\nH\\t-3.1750517559\\t-1.3384674598\\t1.586559271\\nH\\t-4.1070897795\\t-0.2473996782\\t0.5300017563\\nH\\t-3.2718784004\\t-1.6706750471\\t-0.1519294278\\nC\\t-2.1199985229\\t1.0047901572\\t-1.2270781683\\nH\\t-3.1013106923\\t1.4885883256\\t-1.1455959207\\nH\\t-1.3650381801\\t1.7672096937\\t-1.4450220171\\nH\\t-2.1359682738\\t0.2988226962\\t-2.0640291095\\nC\\t-1.8674495741\\t1.4284804343\\t1.5795184192\\nH\\t-1.1021293343\\t2.1978385526\\t1.4333473428\\nH\\t-2.8570543806\\t1.8990440745\\t1.5249848852\\nH\\t-1.7294500683\\t1.0041443209\\t2.57949945\\nC\\t1.8322628499\\t1.9599161739\\t-0.4082880988\\nH\\t1.2485717464\\t2.112847249\\t-1.3225459525\\nH\\t1.2998227442\\t2.4398603485\\t0.4199881282\\nH\\t2.8069841515\\t2.4499624481\\t-0.5286372999\\nC\\t3.1063420899\\t-0.3181513012\\t-1.4820503023\\nH\\t3.9877287333\\t0.332522067\\t-1.5441376151\\nH\\t3.4387427872\\t-1.3538223805\\t-1.3651148418\\nH\\t2.5448705605\\t-0.2553050552\\t-2.4198466405\\nC\\t3.2138623789\\t0.1910466499\\t1.3173727026\\nH\\t2.7414344286\\t0.6444067229\\t2.1952293073\\nH\\t3.4941841938\\t-0.8335059074\\t1.5820144745\\nH\\t4.1164870021\\t0.7608556511\\t1.0624086789\",\"xyz\");\n\tviewer_1730326648175751.setStyle({\"stick\": {\"colorscheme\": \"Jmol\"}});\n\tviewer_1730326648175751.addPropertyLabels(\"index\",{\"not\": {\"elem\": \"H\"}},{\"fontSize\": 10, \"color\": \"black\"});\n\tviewer_1730326648175751.zoomTo();\nviewer_1730326648175751.render();\n});\n</script>",
      "text/html": [
       "<div id=\"3dmolviewer_1730326648175751\"  style=\"position: relative; width: 400px; height: 300px;\">\n",
       "        <p id=\"3dmolwarning_1730326648175751\" style=\"background-color:#ffcccc;color:black\">3Dmol.js failed to load for some reason.  Please check your browser console for error messages.<br></p>\n",
       "        </div>\n",
       "<script>\n",
       "\n",
       "var loadScriptAsync = function(uri){\n",
       "  return new Promise((resolve, reject) => {\n",
       "    //this is to ignore the existence of requirejs amd\n",
       "    var savedexports, savedmodule;\n",
       "    if (typeof exports !== 'undefined') savedexports = exports;\n",
       "    else exports = {}\n",
       "    if (typeof module !== 'undefined') savedmodule = module;\n",
       "    else module = {}\n",
       "\n",
       "    var tag = document.createElement('script');\n",
       "    tag.src = uri;\n",
       "    tag.async = true;\n",
       "    tag.onload = () => {\n",
       "        exports = savedexports;\n",
       "        module = savedmodule;\n",
       "        resolve();\n",
       "    };\n",
       "  var firstScriptTag = document.getElementsByTagName('script')[0];\n",
       "  firstScriptTag.parentNode.insertBefore(tag, firstScriptTag);\n",
       "});\n",
       "};\n",
       "\n",
       "if(typeof $3Dmolpromise === 'undefined') {\n",
       "$3Dmolpromise = null;\n",
       "  $3Dmolpromise = loadScriptAsync('https://cdnjs.cloudflare.com/ajax/libs/3Dmol/2.4.0/3Dmol-min.js');\n",
       "}\n",
       "\n",
       "var viewer_1730326648175751 = null;\n",
       "var warn = document.getElementById(\"3dmolwarning_1730326648175751\");\n",
       "if(warn) {\n",
       "    warn.parentNode.removeChild(warn);\n",
       "}\n",
       "$3Dmolpromise.then(function() {\n",
       "viewer_1730326648175751 = $3Dmol.createViewer(document.getElementById(\"3dmolviewer_1730326648175751\"),{backgroundColor:\"white\"});\n",
       "viewer_1730326648175751.zoomTo();\n",
       "\tviewer_1730326648175751.addModel(\"39\\n\\nP\\t-1.6666044222\\t0.1020818669\\t0.3142864802\\nNi\\t0.2100082661\\t-1.0605640779\\t0.2156156741\\nP\\t2.0075721148\\t0.1500747162\\t-0.0761069492\\nBr\\t0.0094964231\\t-2.877672458\\t-1.4852246437\\nC\\t0.8904546368\\t-2.7801244368\\t0.4496935996\\nC\\t2.1968166495\\t-3.2992685974\\t0.6114610888\\nC\\t-0.0660172433\\t-2.9182485237\\t1.4894425511\\nC\\t2.5914578946\\t-3.7326342057\\t1.8615812865\\nH\\t2.8834110281\\t-3.3174607134\\t-0.2298730391\\nC\\t0.3826490154\\t-3.3351481429\\t2.7593398603\\nH\\t-1.1302432615\\t-2.8734351465\\t1.2830295767\\nC\\t1.6979869378\\t-3.720135774\\t2.9541472529\\nH\\t3.6110793545\\t-4.0852603866\\t2.0042273087\\nH\\t-0.335666055\\t-3.4209523559\\t3.572602955\\nH\\t2.028681446\\t-4.0714152522\\t3.9278839314\\nC\\t-3.2077229388\\t-0.8726542582\\t0.595679065\\nH\\t-3.1750517559\\t-1.3384674598\\t1.586559271\\nH\\t-4.1070897795\\t-0.2473996782\\t0.5300017563\\nH\\t-3.2718784004\\t-1.6706750471\\t-0.1519294278\\nC\\t-2.1199985229\\t1.0047901572\\t-1.2270781683\\nH\\t-3.1013106923\\t1.4885883256\\t-1.1455959207\\nH\\t-1.3650381801\\t1.7672096937\\t-1.4450220171\\nH\\t-2.1359682738\\t0.2988226962\\t-2.0640291095\\nC\\t-1.8674495741\\t1.4284804343\\t1.5795184192\\nH\\t-1.1021293343\\t2.1978385526\\t1.4333473428\\nH\\t-2.8570543806\\t1.8990440745\\t1.5249848852\\nH\\t-1.7294500683\\t1.0041443209\\t2.57949945\\nC\\t1.8322628499\\t1.9599161739\\t-0.4082880988\\nH\\t1.2485717464\\t2.112847249\\t-1.3225459525\\nH\\t1.2998227442\\t2.4398603485\\t0.4199881282\\nH\\t2.8069841515\\t2.4499624481\\t-0.5286372999\\nC\\t3.1063420899\\t-0.3181513012\\t-1.4820503023\\nH\\t3.9877287333\\t0.332522067\\t-1.5441376151\\nH\\t3.4387427872\\t-1.3538223805\\t-1.3651148418\\nH\\t2.5448705605\\t-0.2553050552\\t-2.4198466405\\nC\\t3.2138623789\\t0.1910466499\\t1.3173727026\\nH\\t2.7414344286\\t0.6444067229\\t2.1952293073\\nH\\t3.4941841938\\t-0.8335059074\\t1.5820144745\\nH\\t4.1164870021\\t0.7608556511\\t1.0624086789\",\"xyz\");\n",
       "\tviewer_1730326648175751.setStyle({\"stick\": {\"colorscheme\": \"Jmol\"}});\n",
       "\tviewer_1730326648175751.addPropertyLabels(\"index\",{\"not\": {\"elem\": \"H\"}},{\"fontSize\": 10, \"color\": \"black\"});\n",
       "\tviewer_1730326648175751.zoomTo();\n",
       "viewer_1730326648175751.render();\n",
       "});\n",
       "</script>"
      ]
     },
     "metadata": {},
     "output_type": "display_data"
    }
   ],
   "source": [
    "xyzfiles = glob.glob('../ThesisFiles/file_xyz/TSOA/*')\n",
    "xyzfile = xyzfiles[2]\n",
    "vis.showxyz_fromxyzfile(xyzfile)"
   ]
  },
  {
   "cell_type": "code",
   "execution_count": 223,
   "metadata": {},
   "outputs": [
    {
     "data": {
      "text/plain": [
       "[Atom(P0),\n",
       " Atom(Ni1),\n",
       " Atom(P2),\n",
       " Atom(Br3),\n",
       " Atom(C4),\n",
       " Atom(C5),\n",
       " Atom(C6),\n",
       " Atom(C7),\n",
       " Atom(H8),\n",
       " Atom(C9),\n",
       " Atom(H10),\n",
       " Atom(C11),\n",
       " Atom(H12),\n",
       " Atom(H13),\n",
       " Atom(H14)]"
      ]
     },
     "execution_count": 223,
     "metadata": {},
     "output_type": "execute_result"
    }
   ],
   "source": [
    "mycpx = cpx.Mol()\n",
    "mycpx.readfile('xyz', xyzfile)\n",
    "mycpx.deleteAtoms(list(range(15, 39)))\n",
    "mycpx.atoms"
   ]
  },
  {
   "cell_type": "code",
   "execution_count": 224,
   "metadata": {},
   "outputs": [
    {
     "data": {
      "application/3dmoljs_load.v0": "<div id=\"3dmolviewer_17303266497212338\"  style=\"position: relative; width: 400px; height: 300px;\">\n        <p id=\"3dmolwarning_17303266497212338\" style=\"background-color:#ffcccc;color:black\">3Dmol.js failed to load for some reason.  Please check your browser console for error messages.<br></p>\n        </div>\n<script>\n\nvar loadScriptAsync = function(uri){\n  return new Promise((resolve, reject) => {\n    //this is to ignore the existence of requirejs amd\n    var savedexports, savedmodule;\n    if (typeof exports !== 'undefined') savedexports = exports;\n    else exports = {}\n    if (typeof module !== 'undefined') savedmodule = module;\n    else module = {}\n\n    var tag = document.createElement('script');\n    tag.src = uri;\n    tag.async = true;\n    tag.onload = () => {\n        exports = savedexports;\n        module = savedmodule;\n        resolve();\n    };\n  var firstScriptTag = document.getElementsByTagName('script')[0];\n  firstScriptTag.parentNode.insertBefore(tag, firstScriptTag);\n});\n};\n\nif(typeof $3Dmolpromise === 'undefined') {\n$3Dmolpromise = null;\n  $3Dmolpromise = loadScriptAsync('https://cdnjs.cloudflare.com/ajax/libs/3Dmol/2.4.0/3Dmol-min.js');\n}\n\nvar viewer_17303266497212338 = null;\nvar warn = document.getElementById(\"3dmolwarning_17303266497212338\");\nif(warn) {\n    warn.parentNode.removeChild(warn);\n}\n$3Dmolpromise.then(function() {\nviewer_17303266497212338 = $3Dmol.createViewer(document.getElementById(\"3dmolviewer_17303266497212338\"),{backgroundColor:\"white\"});\nviewer_17303266497212338.zoomTo();\n\tviewer_17303266497212338.addModel(\"15\\n\\nP\\t-1.666604\\t0.102082\\t0.314286\\nNi\\t0.210008\\t-1.060564\\t0.215616\\nP\\t2.007572\\t0.150075\\t-0.076107\\nBr\\t0.009496\\t-2.877672\\t-1.485225\\nC\\t0.890455\\t-2.780124\\t0.449694\\nC\\t2.196817\\t-3.299269\\t0.611461\\nC\\t-0.066017\\t-2.918249\\t1.489443\\nC\\t2.591458\\t-3.732634\\t1.861581\\nH\\t2.883411\\t-3.317461\\t-0.229873\\nC\\t0.382649\\t-3.335148\\t2.759340\\nH\\t-1.130243\\t-2.873435\\t1.283030\\nC\\t1.697987\\t-3.720136\\t2.954147\\nH\\t3.611079\\t-4.085260\\t2.004227\\nH\\t-0.335666\\t-3.420952\\t3.572603\\nH\\t2.028681\\t-4.071415\\t3.927884\",\"xyz\");\n\tviewer_17303266497212338.setStyle({\"stick\": {\"colorscheme\": \"Jmol\"}});\n\tviewer_17303266497212338.addPropertyLabels(\"index\",{\"not\": {\"elem\": \"H\"}},{\"fontSize\": 10, \"color\": \"black\"});\n\tviewer_17303266497212338.zoomTo();\nviewer_17303266497212338.render();\n});\n</script>",
      "text/html": [
       "<div id=\"3dmolviewer_17303266497212338\"  style=\"position: relative; width: 400px; height: 300px;\">\n",
       "        <p id=\"3dmolwarning_17303266497212338\" style=\"background-color:#ffcccc;color:black\">3Dmol.js failed to load for some reason.  Please check your browser console for error messages.<br></p>\n",
       "        </div>\n",
       "<script>\n",
       "\n",
       "var loadScriptAsync = function(uri){\n",
       "  return new Promise((resolve, reject) => {\n",
       "    //this is to ignore the existence of requirejs amd\n",
       "    var savedexports, savedmodule;\n",
       "    if (typeof exports !== 'undefined') savedexports = exports;\n",
       "    else exports = {}\n",
       "    if (typeof module !== 'undefined') savedmodule = module;\n",
       "    else module = {}\n",
       "\n",
       "    var tag = document.createElement('script');\n",
       "    tag.src = uri;\n",
       "    tag.async = true;\n",
       "    tag.onload = () => {\n",
       "        exports = savedexports;\n",
       "        module = savedmodule;\n",
       "        resolve();\n",
       "    };\n",
       "  var firstScriptTag = document.getElementsByTagName('script')[0];\n",
       "  firstScriptTag.parentNode.insertBefore(tag, firstScriptTag);\n",
       "});\n",
       "};\n",
       "\n",
       "if(typeof $3Dmolpromise === 'undefined') {\n",
       "$3Dmolpromise = null;\n",
       "  $3Dmolpromise = loadScriptAsync('https://cdnjs.cloudflare.com/ajax/libs/3Dmol/2.4.0/3Dmol-min.js');\n",
       "}\n",
       "\n",
       "var viewer_17303266497212338 = null;\n",
       "var warn = document.getElementById(\"3dmolwarning_17303266497212338\");\n",
       "if(warn) {\n",
       "    warn.parentNode.removeChild(warn);\n",
       "}\n",
       "$3Dmolpromise.then(function() {\n",
       "viewer_17303266497212338 = $3Dmol.createViewer(document.getElementById(\"3dmolviewer_17303266497212338\"),{backgroundColor:\"white\"});\n",
       "viewer_17303266497212338.zoomTo();\n",
       "\tviewer_17303266497212338.addModel(\"15\\n\\nP\\t-1.666604\\t0.102082\\t0.314286\\nNi\\t0.210008\\t-1.060564\\t0.215616\\nP\\t2.007572\\t0.150075\\t-0.076107\\nBr\\t0.009496\\t-2.877672\\t-1.485225\\nC\\t0.890455\\t-2.780124\\t0.449694\\nC\\t2.196817\\t-3.299269\\t0.611461\\nC\\t-0.066017\\t-2.918249\\t1.489443\\nC\\t2.591458\\t-3.732634\\t1.861581\\nH\\t2.883411\\t-3.317461\\t-0.229873\\nC\\t0.382649\\t-3.335148\\t2.759340\\nH\\t-1.130243\\t-2.873435\\t1.283030\\nC\\t1.697987\\t-3.720136\\t2.954147\\nH\\t3.611079\\t-4.085260\\t2.004227\\nH\\t-0.335666\\t-3.420952\\t3.572603\\nH\\t2.028681\\t-4.071415\\t3.927884\",\"xyz\");\n",
       "\tviewer_17303266497212338.setStyle({\"stick\": {\"colorscheme\": \"Jmol\"}});\n",
       "\tviewer_17303266497212338.addPropertyLabels(\"index\",{\"not\": {\"elem\": \"H\"}},{\"fontSize\": 10, \"color\": \"black\"});\n",
       "\tviewer_17303266497212338.zoomTo();\n",
       "viewer_17303266497212338.render();\n",
       "});\n",
       "</script>"
      ]
     },
     "metadata": {},
     "output_type": "display_data"
    }
   ],
   "source": [
    "vis.showxyz_fromxyzstr(mycpx.writexyz())"
   ]
  },
  {
   "cell_type": "code",
   "execution_count": 227,
   "metadata": {},
   "outputs": [
    {
     "data": {
      "text/plain": [
       "array([[-1.87661269,  1.16264594,  0.09867081],\n",
       "       [ 0.        ,  0.        ,  0.        ],\n",
       "       [ 1.79756385,  1.21063879, -0.29172262],\n",
       "       [-0.20051184, -1.81710838, -1.70084032],\n",
       "       [ 0.68044637, -1.71956036,  0.23407793],\n",
       "       [ 1.98680838, -2.23870452,  0.39584541],\n",
       "       [-0.27602551, -1.85768445,  1.27382688],\n",
       "       [ 2.38144963, -2.67207013,  1.64596561],\n",
       "       [ 2.67340276, -2.25689664, -0.44548871],\n",
       "       [ 0.17264075, -2.27458406,  2.54372419],\n",
       "       [-1.34025153, -1.81287107,  1.0674139 ],\n",
       "       [ 1.48797867, -2.6595717 ,  2.73853158],\n",
       "       [ 3.40107109, -3.02469631,  1.78861163],\n",
       "       [-0.54567432, -2.36038828,  3.35698728],\n",
       "       [ 1.81867318, -3.01085117,  3.71226826]])"
      ]
     },
     "execution_count": 227,
     "metadata": {},
     "output_type": "execute_result"
    }
   ],
   "source": [
    "coords = mycpx.coords\n",
    "coord_metal = mycpx.get_coord_byidx(1)\n",
    "coords - coord_metal\n"
   ]
  },
  {
   "cell_type": "code",
   "execution_count": 231,
   "metadata": {},
   "outputs": [
    {
     "data": {
      "text/plain": [
       "Mol(natoms=15)"
      ]
     },
     "execution_count": 231,
     "metadata": {},
     "output_type": "execute_result"
    }
   ],
   "source": [
    "structgen.create_template_Mol('tsoa')"
   ]
  },
  {
   "cell_type": "code",
   "execution_count": null,
   "metadata": {},
   "outputs": [],
   "source": []
  }
 ],
 "metadata": {
  "kernelspec": {
   "display_name": "vpml",
   "language": "python",
   "name": "python3"
  },
  "language_info": {
   "codemirror_mode": {
    "name": "ipython",
    "version": 3
   },
   "file_extension": ".py",
   "mimetype": "text/x-python",
   "name": "python",
   "nbconvert_exporter": "python",
   "pygments_lexer": "ipython3",
   "version": "3.12.2"
  }
 },
 "nbformat": 4,
 "nbformat_minor": 2
}
